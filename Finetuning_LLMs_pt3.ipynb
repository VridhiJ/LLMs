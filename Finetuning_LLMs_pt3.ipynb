{
  "cells": [
    {
      "cell_type": "markdown",
      "metadata": {
        "id": "view-in-github",
        "colab_type": "text"
      },
      "source": [
        "<a href=\"https://colab.research.google.com/github/VridhiJ/LLMs/blob/main/Finetuning_LLMs_pt3.ipynb\" target=\"_parent\"><img src=\"https://colab.research.google.com/assets/colab-badge.svg\" alt=\"Open In Colab\"/></a>"
      ]
    },
    {
      "cell_type": "markdown",
      "metadata": {
        "id": "Bfa8rujtIfWR"
      },
      "source": [
        "<h1 align=\"center\" style=\"color:green;font-size: 3em;\">\n",
        "Implementing Fine-tuning Techniques</h1>\n",
        "\n"
      ]
    },
    {
      "cell_type": "markdown",
      "metadata": {
        "id": "_u2emUkuIwLm"
      },
      "source": [
        "Implementing various fine-tuning methods as described in different papers, specifically LoRA and IA3.\n",
        "\n",
        "In this notebook, we will explore IA3 implementations:\n",
        "- by modifying activations\n",
        "- by manipulating weights and biases"
      ]
    },
    {
      "cell_type": "markdown",
      "metadata": {
        "id": "ywkMu4GsJSNu"
      },
      "source": [
        "# Import Libraries"
      ]
    },
    {
      "cell_type": "code",
      "execution_count": null,
      "metadata": {
        "id": "cVHARZP6Nx_y"
      },
      "outputs": [],
      "source": [
        "!pip install datasets -q"
      ]
    },
    {
      "cell_type": "code",
      "execution_count": null,
      "metadata": {
        "colab": {
          "base_uri": "https://localhost:8080/"
        },
        "id": "lqY-ceD7BAff",
        "outputId": "0dee2832-d75d-4f4d-bdc3-b0a7c2d0b5c9"
      },
      "outputs": [
        {
          "output_type": "stream",
          "name": "stdout",
          "text": [
            "2.6.0+cu124\n"
          ]
        }
      ],
      "source": [
        "\n",
        "# importing required libraries\n",
        "import torch\n",
        "import torch.nn as nn\n",
        "import collections\n",
        "import random\n",
        "import numpy as np\n",
        "import math\n",
        "import matplotlib.pyplot as plt\n",
        "import warnings\n",
        "\n",
        "from torch.optim import AdamW\n",
        "from typing import List\n",
        "from torch.nn import functional as F\n",
        "from tqdm import tqdm\n",
        "from datasets import load_dataset, Dataset\n",
        "from transformers import (\n",
        "    AutoModelForCausalLM,\n",
        "    AutoTokenizer,\n",
        "    Trainer,\n",
        "    DataCollatorForLanguageModeling,\n",
        "    TrainingArguments,\n",
        ")\n",
        "from transformers import AutoModelForSequenceClassification, AutoTokenizer, AutoModelForSeq2SeqLM, AutoModelForCausalLM, T5Tokenizer, T5ForSequenceClassification\n",
        "from torch.utils.data import DataLoader\n",
        "\n",
        "warnings.simplefilter(\"ignore\")\n",
        "print(torch.__version__)"
      ]
    },
    {
      "cell_type": "code",
      "execution_count": null,
      "metadata": {
        "id": "th0qaOHclWwv",
        "colab": {
          "base_uri": "https://localhost:8080/",
          "height": 35
        },
        "outputId": "704c0d27-60d7-438a-f24f-9be52461e93b"
      },
      "outputs": [
        {
          "output_type": "execute_result",
          "data": {
            "text/plain": [
              "'cuda'"
            ],
            "application/vnd.google.colaboratory.intrinsic+json": {
              "type": "string"
            }
          },
          "metadata": {},
          "execution_count": 40
        }
      ],
      "source": [
        "device = \"cuda\" if torch.cuda.is_available() else \"cpu\"\n",
        "device"
      ]
    },
    {
      "cell_type": "markdown",
      "metadata": {
        "id": "29kXZvBvi-ey"
      },
      "source": [
        "# IA3 Memory Analysis\n",
        "\n",
        "In this section, we will perform memory analysis on a well-known model from Hugging Face called Gemma. Gemma is a state-of-the-art model used for various natural language processing tasks.\n",
        "\n",
        "However, it is a \"gated model\", so will require access.\n",
        "\n",
        "To read more about how to get access to gated models: [link](https://huggingface.co/docs/hub/en/models-gated)."
      ]
    },
    {
      "cell_type": "code",
      "execution_count": null,
      "metadata": {
        "id": "Qmd0V5LqfnT1"
      },
      "outputs": [],
      "source": [
        "!pip install huggingface_hub -q"
      ]
    },
    {
      "cell_type": "code",
      "execution_count": null,
      "metadata": {
        "id": "VO-qjm5Vf5A4",
        "colab": {
          "base_uri": "https://localhost:8080/"
        },
        "outputId": "31369976-7671-4b9b-99a0-8b2660925f29"
      },
      "outputs": [
        {
          "output_type": "stream",
          "name": "stdout",
          "text": [
            "\n",
            "    _|    _|  _|    _|    _|_|_|    _|_|_|  _|_|_|  _|      _|    _|_|_|      _|_|_|_|    _|_|      _|_|_|  _|_|_|_|\n",
            "    _|    _|  _|    _|  _|        _|          _|    _|_|    _|  _|            _|        _|    _|  _|        _|\n",
            "    _|_|_|_|  _|    _|  _|  _|_|  _|  _|_|    _|    _|  _|  _|  _|  _|_|      _|_|_|    _|_|_|_|  _|        _|_|_|\n",
            "    _|    _|  _|    _|  _|    _|  _|    _|    _|    _|    _|_|  _|    _|      _|        _|    _|  _|        _|\n",
            "    _|    _|    _|_|      _|_|_|    _|_|_|  _|_|_|  _|      _|    _|_|_|      _|        _|    _|    _|_|_|  _|_|_|_|\n",
            "\n",
            "    A token is already saved on your machine. Run `huggingface-cli whoami` to get more information or `huggingface-cli logout` if you want to log out.\n",
            "    Setting a new token will erase the existing one.\n",
            "    To login, `huggingface_hub` requires a token generated from https://huggingface.co/settings/tokens .\n",
            "Enter your token (input will not be visible): \n",
            "Add token as git credential? (Y/n) n\n",
            "Token is valid (permission: fineGrained).\n",
            "Your token has been saved to /root/.cache/huggingface/token\n",
            "Login successful\n"
          ]
        }
      ],
      "source": [
        "## You will need to re-generate the token everytime you restart the notebook\n",
        "## Select no for \"add token as git credential\"\n",
        "!huggingface-cli login"
      ]
    },
    {
      "cell_type": "code",
      "execution_count": null,
      "metadata": {
        "id": "86JEctMHuTdW",
        "colab": {
          "base_uri": "https://localhost:8080/",
          "height": 120,
          "referenced_widgets": [
            "2bdeb13371394fc9841ddf6fb01712a0",
            "668bce72c1ca45a586a2f555f4130612",
            "627dcf729ce9461fa5f1e20e17ffa6bd",
            "d576ca6ee3304e449e603f58bd203e29",
            "2ce2874665b740ac9db3f7207e7907a4",
            "2d18f9a2752f4c15a79ac2156c044c54",
            "651e8083fe294578ac1b6b1d8f357a15",
            "ee395829a5f749bb801cea311690d220",
            "d78515e4999f46b7bfd1d99ddf5e2629",
            "5e2e8af33c36477aba04f43ef54aa011",
            "c2c833c1d84a4faebcb567bc74d05368"
          ]
        },
        "outputId": "d9bff022-3290-419c-e2d1-b6453cc3b0fd"
      },
      "outputs": [
        {
          "output_type": "stream",
          "name": "stderr",
          "text": [
            "`config.hidden_act` is ignored, you should use `config.hidden_activation` instead.\n",
            "Gemma's activation function will be set to `gelu_pytorch_tanh`. Please, use\n",
            "`config.hidden_activation` if you want to override this behaviour.\n",
            "See https://github.com/huggingface/transformers/pull/29402 for more details.\n"
          ]
        },
        {
          "output_type": "display_data",
          "data": {
            "text/plain": [
              "Loading checkpoint shards:   0%|          | 0/2 [00:00<?, ?it/s]"
            ],
            "application/vnd.jupyter.widget-view+json": {
              "version_major": 2,
              "version_minor": 0,
              "model_id": "2bdeb13371394fc9841ddf6fb01712a0"
            }
          },
          "metadata": {}
        }
      ],
      "source": [
        "## Load the gemma model (NEED AUTHENTICATIOIN)\n",
        "model_name = \"google/gemma-2b\"\n",
        "\n",
        "tokenizer = AutoTokenizer.from_pretrained(model_name)\n",
        "model = AutoModelForCausalLM.from_pretrained(model_name)"
      ]
    },
    {
      "cell_type": "code",
      "execution_count": null,
      "metadata": {
        "id": "YuSytb-qgfFz",
        "colab": {
          "base_uri": "https://localhost:8080/"
        },
        "outputId": "4f794a39-ab2b-4e06-e5c7-e2b1d932a1a4"
      },
      "outputs": [
        {
          "output_type": "execute_result",
          "data": {
            "text/plain": [
              "GemmaForCausalLM(\n",
              "  (model): GemmaModel(\n",
              "    (embed_tokens): Embedding(256000, 2048, padding_idx=0)\n",
              "    (layers): ModuleList(\n",
              "      (0-17): 18 x GemmaDecoderLayer(\n",
              "        (self_attn): GemmaSdpaAttention(\n",
              "          (q_proj): Linear(in_features=2048, out_features=2048, bias=False)\n",
              "          (k_proj): Linear(in_features=2048, out_features=256, bias=False)\n",
              "          (v_proj): Linear(in_features=2048, out_features=256, bias=False)\n",
              "          (o_proj): Linear(in_features=2048, out_features=2048, bias=False)\n",
              "          (rotary_emb): GemmaRotaryEmbedding()\n",
              "        )\n",
              "        (mlp): GemmaMLP(\n",
              "          (gate_proj): Linear(in_features=2048, out_features=16384, bias=False)\n",
              "          (up_proj): Linear(in_features=2048, out_features=16384, bias=False)\n",
              "          (down_proj): Linear(in_features=16384, out_features=2048, bias=False)\n",
              "          (act_fn): PytorchGELUTanh()\n",
              "        )\n",
              "        (input_layernorm): GemmaRMSNorm((2048,), eps=1e-06)\n",
              "        (post_attention_layernorm): GemmaRMSNorm((2048,), eps=1e-06)\n",
              "      )\n",
              "    )\n",
              "    (norm): GemmaRMSNorm((2048,), eps=1e-06)\n",
              "  )\n",
              "  (lm_head): Linear(in_features=2048, out_features=256000, bias=False)\n",
              ")"
            ]
          },
          "metadata": {},
          "execution_count": 8
        }
      ],
      "source": [
        "## Check the model architecture\n",
        "model"
      ]
    },
    {
      "cell_type": "markdown",
      "metadata": {
        "id": "36U-1jH4k2eR"
      },
      "source": [
        "## Implement IA3 with activations\n",
        "\n",
        "Next, similar to how we integrate LoRA adapters into our OPT model, we aim to incorporate IA3 into the Gemma model.\n",
        "\n",
        "More about IA3 [here](https://arxiv.org/pdf/2205.05638).\n",
        "\n",
        "IA3 has two distinct implementations: one that modifies activations (as traditional PEFT frameworks do) and another that adjusts weights and biases to align with the CLAM framework.\n",
        "\n",
        "Modifying activations means that during the forward pass, the outputs (also known as activations) of certain layers are adjusted using additional parameters.\n",
        "\n",
        "Manipulating weights and biases, on the other hand, means changing the way we get the weights such that it will still satisfy the fine-tuning technique. Below is an implementation focusing on manipulating activations. Review the code carefully to understand the approach."
      ]
    },
    {
      "cell_type": "code",
      "execution_count": null,
      "metadata": {
        "id": "KSLnEbzrzjpZ"
      },
      "outputs": [],
      "source": [
        "class IA3Adapter1(nn.Module):\n",
        "    def __init__(self, existing_layer, in_features, out_features, ia3_lr, is_feedforward=False):\n",
        "        nn.Module.__init__(self)\n",
        "        self.existing_layer = existing_layer.to(\"cuda\")\n",
        "        self.is_feedforward = is_feedforward\n",
        "\n",
        "        # The trainable weights\n",
        "        self.ia3_lw = (\n",
        "            nn.Parameter(\n",
        "                torch.ones((1, out_features), device=\"cuda\")\n",
        "            )\n",
        "            if not is_feedforward\n",
        "            else nn.Parameter(\n",
        "                torch.ones((1, in_features), device=\"cuda\")\n",
        "            )\n",
        "        )\n",
        "        nn.init.ones_(self.ia3_lw)\n",
        "\n",
        "        self.ia3_lr = ia3_lr\n",
        "\n",
        "    def forward(self, x: torch.Tensor):\n",
        "        if not self.is_feedforward:\n",
        "            # We first get the output of the current layer\n",
        "            result = self.existing_layer(x)\n",
        "            result = torch.mul(result, self.ia3_lw)\n",
        "            return result\n",
        "        else:\n",
        "            result = torch.mul(x, self.ia3_lw)\n",
        "            result = self.existing_layer(result)\n",
        "            return result"
      ]
    },
    {
      "cell_type": "code",
      "source": [
        "def ia3_params(model: nn.Module) -> None:\n",
        "  total_params = 0\n",
        "  trainable_params = 0\n",
        "  # Freeze all parameters in the model\n",
        "  for param in model.parameters():\n",
        "    total_params += param.numel()\n",
        "\n",
        "  # Enable gradients only for ia3 parameters\n",
        "  for name, param in model.named_parameters():\n",
        "    if \"ia3_lw\" in name:\n",
        "      trainable_params += param.numel()\n",
        "  return total_params, trainable_params"
      ],
      "metadata": {
        "id": "vnnvpqZLDtpV"
      },
      "execution_count": null,
      "outputs": []
    },
    {
      "cell_type": "code",
      "source": [
        "def match_submodules(model: nn.Module, key:str) -> List[str]:\n",
        "  matching_layers = []\n",
        "  for name, module in model.named_modules():\n",
        "    if key in name:\n",
        "      matching_layers.append(name)\n",
        "  return matching_layers\n",
        "\n",
        "\n",
        "def get_submodule(model: nn.Module, module_name:str):\n",
        "    return model.get_submodule(module_name)\n",
        "\n",
        "\n",
        "def replace_submodule(model: nn.Module, module_path: str, new_module):\n",
        "  modules = module_path.split('.')\n",
        "  parent_module = model\n",
        "  for sub in modules[:-1]:\n",
        "    parent_module = getattr(parent_module, sub)\n",
        "  setattr(parent_module, modules[-1], new_module)\n",
        "\n",
        "\n",
        "def inject_adapter(model: nn.Module, match_on: List[str], adapter_fn):\n",
        "  processed_modules = set()\n",
        "  for key in match_on:\n",
        "    matching_layers = match_submodules(model, key)\n",
        "    for module_path in matching_layers:\n",
        "      if module_path in processed_modules:\n",
        "        continue\n",
        "      current_module = get_submodule(model, module_path)\n",
        "      new_module = adapter_fn(current_module) # New IA3 module\n",
        "      new_module = new_module.to(current_module.weight.device)  # Move to gpu\n",
        "      replace_submodule(model, module_path, new_module) # Replace\n",
        "      processed_modules.add(module_path)"
      ],
      "metadata": {
        "id": "NzMrTOw0D4o7"
      },
      "execution_count": null,
      "outputs": []
    },
    {
      "cell_type": "code",
      "source": [
        "inject_adapter(model, [\"k_proj\",\"v_proj\",\"down_proj\"], lambda x: IA3Adapter1(x, in_features=x.in_features, out_features=x.out_features, ia3_lr=1e-3, is_feedforward = [\"False\", \"False\", \"True\"]))\n",
        "total_params, trainable_params = ia3_params(model)\n",
        "\n",
        "print(f\"Total Parameters: {total_params}\")\n",
        "print(f\"Trainable Parameters: {trainable_params}\")"
      ],
      "metadata": {
        "colab": {
          "base_uri": "https://localhost:8080/"
        },
        "id": "iVxwBEMbD79t",
        "outputId": "497a3bac-f326-44c4-8880-277f63f4d747"
      },
      "execution_count": null,
      "outputs": [
        {
          "output_type": "stream",
          "name": "stdout",
          "text": [
            "Total Parameters: 2506541056\n",
            "Trainable Parameters: 368640\n"
          ]
        }
      ]
    },
    {
      "cell_type": "code",
      "source": [
        "# Check architecture after IA3 interjection\n",
        "model"
      ],
      "metadata": {
        "id": "HXKzu2CM-wHg",
        "colab": {
          "base_uri": "https://localhost:8080/"
        },
        "outputId": "033a310a-d335-4808-f91b-c4bf5c702f32"
      },
      "execution_count": null,
      "outputs": [
        {
          "output_type": "execute_result",
          "data": {
            "text/plain": [
              "GemmaForCausalLM(\n",
              "  (model): GemmaModel(\n",
              "    (embed_tokens): Embedding(256000, 2048, padding_idx=0)\n",
              "    (layers): ModuleList(\n",
              "      (0-17): 18 x GemmaDecoderLayer(\n",
              "        (self_attn): GemmaSdpaAttention(\n",
              "          (q_proj): Linear(in_features=2048, out_features=2048, bias=False)\n",
              "          (k_proj): IA3Adapter1(\n",
              "            (existing_layer): Linear(in_features=2048, out_features=256, bias=False)\n",
              "          )\n",
              "          (v_proj): IA3Adapter1(\n",
              "            (existing_layer): Linear(in_features=2048, out_features=256, bias=False)\n",
              "          )\n",
              "          (o_proj): Linear(in_features=2048, out_features=2048, bias=False)\n",
              "          (rotary_emb): GemmaRotaryEmbedding()\n",
              "        )\n",
              "        (mlp): GemmaMLP(\n",
              "          (gate_proj): Linear(in_features=2048, out_features=16384, bias=False)\n",
              "          (up_proj): Linear(in_features=2048, out_features=16384, bias=False)\n",
              "          (down_proj): IA3Adapter1(\n",
              "            (existing_layer): Linear(in_features=16384, out_features=2048, bias=False)\n",
              "          )\n",
              "          (act_fn): PytorchGELUTanh()\n",
              "        )\n",
              "        (input_layernorm): GemmaRMSNorm((2048,), eps=1e-06)\n",
              "        (post_attention_layernorm): GemmaRMSNorm((2048,), eps=1e-06)\n",
              "      )\n",
              "    )\n",
              "    (norm): GemmaRMSNorm((2048,), eps=1e-06)\n",
              "  )\n",
              "  (lm_head): Linear(in_features=2048, out_features=256000, bias=False)\n",
              ")"
            ]
          },
          "metadata": {},
          "execution_count": 13
        }
      ]
    },
    {
      "cell_type": "markdown",
      "metadata": {
        "id": "W4Ity6mLlzmr"
      },
      "source": [
        "## Memory analysis\n",
        "\n",
        "\n",
        "With the activations method, we will now calculate the memory requirement (return result in GB) of each forward pass when we try to inject IA3 into the **key and value matrices** of **each transformer block** in gemma and the **down_proj** layer of the mlp layer.\n",
        "\n",
        "\n",
        "First calculate how many GB of memory per block (separate KV calculations from down_proj calculations)\n",
        "\n",
        "The parameter weights of gemma is stored in Brain Float 16 which is 2 bytes (or 16 bits). Gradients are stored in 4 bytes (or 32 bits). We can disregard the calculations related to the optimizer. We also need to take care of the calculations for the additional trainable parameters"
      ]
    },
    {
      "cell_type": "markdown",
      "source": [
        "Normal IA3 (IA3 Adapter 1)\n",
        "\n",
        "`For K,V:`\n",
        "\n",
        "x (batched): `[32,216,2048]` (batch size, sequence length, hidden dim) (not counted towards memory)\n",
        "\n",
        "self.existing_layer(x)’s shape: `[32,216,256]`\n",
        "\n",
        "torch.mul(result, self.ia3_lw) result’s shape: `[32,216,256]`\n",
        "\n",
        "`Total` = 2 matrices KV * 2 computations * 32 (first value of the shape of the previous operation)* 216(second value of the shape of the previous operation) * 256 (third value of the shape of the previous operation) * 16 bits per number / 8 bits per byte = `14,155,776 bytes`\n",
        "\n",
        "\n",
        "`For down_proj:`\n",
        "x (batched): `[32,216,16384]` (not counted towards memory)\n",
        "\n",
        "torch.mul(x, self.ia3_lw): `[32, 216, 16384]`\n",
        "\n",
        "self.existing_layer(result): `[32, 216, 2048]`\n",
        "\n",
        "`Total` = (32 * 216 * 16384 + 32 * 216 * 2048)  * 16 bits per number / 8 bits per byte =  `254,803,968 bytes`\n",
        "\n",
        "\n",
        "`Total activations size per block` = 14,155,776 bytes + 254,803,968 bytes = 268959744 bytes = `0.25 GB`\n",
        "\n",
        "\n",
        "`Total IA3 activation size for model`  = 0.25 GB * 18 blocks = `4.5087890625 GB`\n",
        "\n",
        "We also introduce more trainable parameters, whose weight values, gradients, and gradient moments need to be tracked for the optimizer.  Assume we are using the Adam optimizer, which requires 2 gradient moments to be stored per trainable parameter.\n",
        "\n",
        "Total trainable parameters: 368640\n",
        "\n",
        "Param weights (bf16): ) 368640 params * 2 bytes = 737280 bytes\n",
        "\n",
        "Gradients (32 bit) = 368640 params * 4 bytes = 1474560 bytes\n",
        "\n",
        "Gradient moments (32 bit) = n params * 2 moments * 4 bytes = 2949120 bytes\n",
        "\n",
        "`Total additional memory for params: 0.00480651855 GB`\n"
      ],
      "metadata": {
        "id": "TUrtiozmzZQ8"
      }
    },
    {
      "cell_type": "markdown",
      "metadata": {
        "id": "UM-Gmjnpk5vH"
      },
      "source": [
        "## Implement IA3 in CLAM\n",
        "\n",
        "In this section, the implementation modifies the weights and biases directly instead of manipulating activations.\n"
      ]
    },
    {
      "cell_type": "code",
      "execution_count": null,
      "metadata": {
        "id": "xe3bX8ZzhbfZ"
      },
      "outputs": [],
      "source": [
        "## Part of the CLAM abstraction (should not compile)\n",
        "class IA3Adapter2(nn.Module):\n",
        "    def __init__(self, existing_layer, in_features, out_features, ia3_lr, is_feedforward=False):\n",
        "        nn.Module.__init__(self)\n",
        "        self.existing_layer = existing_layer\n",
        "        self.is_feedforward = is_feedforward\n",
        "        self.ia3_lw = (\n",
        "            nn.Parameter(\n",
        "                torch.ones((1, out_features), device=\"cuda\")\n",
        "            )\n",
        "            if not is_feedforward\n",
        "            else nn.Parameter(\n",
        "                torch.ones((1, in_features), device=\"cuda\")\n",
        "            )\n",
        "        )\n",
        "        nn.init.ones_(self.ia3_lw)\n",
        "\n",
        "        self.ia3_lr = ia3_lr\n",
        "\n",
        "\n",
        "    ## Everytime we run the forward method, we will get the corresponding weights and biases\n",
        "    def forward(self, x: torch.Tensor):\n",
        "        return F.linear(\n",
        "            self.get_equivalent_weight(),\n",
        "            self.get_equivalent_bias(),\n",
        "            x\n",
        "        )\n",
        "\n",
        "    def get_equivalent_weight(self):\n",
        "        \"\"\"\n",
        "        Converts IA3 layer to equivalent nn.Linear weight tensor\n",
        "        \"\"\"\n",
        "        mat = self.get_weight()\n",
        "        ret_weight = None\n",
        "        if not self.is_feedforward:\n",
        "            ret_weight = torch.diag(self.ia3_lw.view(-1)) @ mat\n",
        "        else:\n",
        "            ret_weight = mat @ torch.diag(self.ia3_lw.view(-1))\n",
        "\n",
        "        return ret_weight\n",
        "\n",
        "\n",
        "    def get_equivalent_bias(self):\n",
        "        \"\"\"\n",
        "        Gets equivalent nn.Linear bias data\n",
        "        \"\"\"\n",
        "        mat = self.get_bias()\n",
        "        if mat is None:\n",
        "            return None\n",
        "        ret_bias = None\n",
        "\n",
        "        if not self.is_feedforward:\n",
        "            ret_bias = torch.mul(mat, self.ia3_lw.squeeze())\n",
        "        else:\n",
        "            ret_bias = mat\n",
        "\n",
        "        return ret_bias"
      ]
    },
    {
      "cell_type": "code",
      "source": [
        "inject_adapter(model, [\"k_proj\",\"v_proj\",\"down_proj\"], lambda x: IA3Adapter2(x, in_features=x.in_features, out_features=x.out_features, ia3_lr=1e-3, is_feedforward = [\"False\", \"False\", \"True\"]))\n",
        "total_params, trainable_params = ia3_params(model)\n",
        "\n",
        "print(f\"Total Parameters: {total_params}\")\n",
        "print(f\"Trainable Parameters: {trainable_params}\")"
      ],
      "metadata": {
        "colab": {
          "base_uri": "https://localhost:8080/"
        },
        "id": "XDRmnjNk9WkA",
        "outputId": "9fa4f8b8-f5a4-4b64-e27e-345b115a1e2d"
      },
      "execution_count": null,
      "outputs": [
        {
          "output_type": "stream",
          "name": "stdout",
          "text": [
            "Total Parameters: 2506541056\n",
            "Trainable Parameters: 368640\n"
          ]
        }
      ]
    },
    {
      "cell_type": "code",
      "source": [
        "model"
      ],
      "metadata": {
        "colab": {
          "base_uri": "https://localhost:8080/"
        },
        "id": "jqCB9NviCIRW",
        "outputId": "215edadc-6cdd-4f34-b599-a9aa67d90710"
      },
      "execution_count": null,
      "outputs": [
        {
          "output_type": "execute_result",
          "data": {
            "text/plain": [
              "GemmaForCausalLM(\n",
              "  (model): GemmaModel(\n",
              "    (embed_tokens): Embedding(256000, 2048, padding_idx=0)\n",
              "    (layers): ModuleList(\n",
              "      (0-17): 18 x GemmaDecoderLayer(\n",
              "        (self_attn): GemmaSdpaAttention(\n",
              "          (q_proj): Linear(in_features=2048, out_features=2048, bias=False)\n",
              "          (k_proj): IA3Adapter2(\n",
              "            (existing_layer): Linear(in_features=2048, out_features=256, bias=False)\n",
              "          )\n",
              "          (v_proj): IA3Adapter2(\n",
              "            (existing_layer): Linear(in_features=2048, out_features=256, bias=False)\n",
              "          )\n",
              "          (o_proj): Linear(in_features=2048, out_features=2048, bias=False)\n",
              "          (rotary_emb): GemmaRotaryEmbedding()\n",
              "        )\n",
              "        (mlp): GemmaMLP(\n",
              "          (gate_proj): Linear(in_features=2048, out_features=16384, bias=False)\n",
              "          (up_proj): Linear(in_features=2048, out_features=16384, bias=False)\n",
              "          (down_proj): IA3Adapter2(\n",
              "            (existing_layer): Linear(in_features=16384, out_features=2048, bias=False)\n",
              "          )\n",
              "          (act_fn): PytorchGELUTanh()\n",
              "        )\n",
              "        (input_layernorm): GemmaRMSNorm((2048,), eps=1e-06)\n",
              "        (post_attention_layernorm): GemmaRMSNorm((2048,), eps=1e-06)\n",
              "      )\n",
              "    )\n",
              "    (norm): GemmaRMSNorm((2048,), eps=1e-06)\n",
              "  )\n",
              "  (lm_head): Linear(in_features=2048, out_features=256000, bias=False)\n",
              ")"
            ]
          },
          "metadata": {},
          "execution_count": 13
        }
      ]
    },
    {
      "cell_type": "code",
      "source": [
        "def calculate_memory_kv_down_proj(batch_size, seq_len, hidden_dim, intermediate_dim):\n",
        "    # Define memory requirement for float16 in bytes\n",
        "    bytes_per_float = 2\n",
        "\n",
        "    # Memory for k_proj and v_proj (activation size is same for both)\n",
        "    kv_proj_memory_bytes = batch_size * seq_len * hidden_dim_kv * bytes_per_float * 2  # multiply by 2 for both k and v proj\n",
        "\n",
        "    # Memory for down_proj activations\n",
        "    down_proj_memory_bytes = (\n",
        "        batch_size * seq_len * intermediate_dim + batch_size * seq_len * hidden_dim\n",
        "    ) * bytes_per_float\n",
        "\n",
        "    # Total memory for k_proj, v_proj, and down_proj activations\n",
        "    total_memory_bytes = kv_proj_memory_bytes + down_proj_memory_bytes\n",
        "\n",
        "    # Convert bytes to gigabytes\n",
        "    total_memory_gb = total_memory_bytes / (1024 ** 3)  # Convert to GB\n",
        "    return total_memory_gb\n",
        "\n",
        "# Example usage with adjusted hidden dimension\n",
        "batch_size = 32\n",
        "seq_len = 216\n",
        "hidden_dim_kv = 256\n",
        "hidden_dim = 2048\n",
        "intermediate_dim = 16384\n",
        "\n",
        "total_memory_kv_down_proj = calculate_memory_kv_down_proj(batch_size, seq_len, hidden_dim, intermediate_dim)\n",
        "print(f\"Total memory for k_proj, v_proj, and down_proj activations: {18*total_memory_kv_down_proj:.6f} GB\")"
      ],
      "metadata": {
        "colab": {
          "base_uri": "https://localhost:8080/"
        },
        "id": "mYC0jIH6Ddxy",
        "outputId": "3fd71f15-c8ea-4b18-83b8-0afbc0ab10af"
      },
      "execution_count": null,
      "outputs": [
        {
          "output_type": "stream",
          "name": "stdout",
          "text": [
            "Total memory for k_proj, v_proj, and down_proj activations: 4.390137 GB\n"
          ]
        }
      ]
    }
  ],
  "metadata": {
    "accelerator": "GPU",
    "colab": {
      "gpuType": "T4",
      "provenance": [],
      "include_colab_link": true
    },
    "kernelspec": {
      "display_name": "Python 3",
      "name": "python3"
    },
    "language_info": {
      "name": "python"
    },
    "widgets": {
      "application/vnd.jupyter.widget-state+json": {
        "2bdeb13371394fc9841ddf6fb01712a0": {
          "model_module": "@jupyter-widgets/controls",
          "model_name": "HBoxModel",
          "model_module_version": "1.5.0",
          "state": {
            "_dom_classes": [],
            "_model_module": "@jupyter-widgets/controls",
            "_model_module_version": "1.5.0",
            "_model_name": "HBoxModel",
            "_view_count": null,
            "_view_module": "@jupyter-widgets/controls",
            "_view_module_version": "1.5.0",
            "_view_name": "HBoxView",
            "box_style": "",
            "children": [
              "IPY_MODEL_668bce72c1ca45a586a2f555f4130612",
              "IPY_MODEL_627dcf729ce9461fa5f1e20e17ffa6bd",
              "IPY_MODEL_d576ca6ee3304e449e603f58bd203e29"
            ],
            "layout": "IPY_MODEL_2ce2874665b740ac9db3f7207e7907a4"
          }
        },
        "668bce72c1ca45a586a2f555f4130612": {
          "model_module": "@jupyter-widgets/controls",
          "model_name": "HTMLModel",
          "model_module_version": "1.5.0",
          "state": {
            "_dom_classes": [],
            "_model_module": "@jupyter-widgets/controls",
            "_model_module_version": "1.5.0",
            "_model_name": "HTMLModel",
            "_view_count": null,
            "_view_module": "@jupyter-widgets/controls",
            "_view_module_version": "1.5.0",
            "_view_name": "HTMLView",
            "description": "",
            "description_tooltip": null,
            "layout": "IPY_MODEL_2d18f9a2752f4c15a79ac2156c044c54",
            "placeholder": "​",
            "style": "IPY_MODEL_651e8083fe294578ac1b6b1d8f357a15",
            "value": "Loading checkpoint shards: 100%"
          }
        },
        "627dcf729ce9461fa5f1e20e17ffa6bd": {
          "model_module": "@jupyter-widgets/controls",
          "model_name": "FloatProgressModel",
          "model_module_version": "1.5.0",
          "state": {
            "_dom_classes": [],
            "_model_module": "@jupyter-widgets/controls",
            "_model_module_version": "1.5.0",
            "_model_name": "FloatProgressModel",
            "_view_count": null,
            "_view_module": "@jupyter-widgets/controls",
            "_view_module_version": "1.5.0",
            "_view_name": "ProgressView",
            "bar_style": "success",
            "description": "",
            "description_tooltip": null,
            "layout": "IPY_MODEL_ee395829a5f749bb801cea311690d220",
            "max": 2,
            "min": 0,
            "orientation": "horizontal",
            "style": "IPY_MODEL_d78515e4999f46b7bfd1d99ddf5e2629",
            "value": 2
          }
        },
        "d576ca6ee3304e449e603f58bd203e29": {
          "model_module": "@jupyter-widgets/controls",
          "model_name": "HTMLModel",
          "model_module_version": "1.5.0",
          "state": {
            "_dom_classes": [],
            "_model_module": "@jupyter-widgets/controls",
            "_model_module_version": "1.5.0",
            "_model_name": "HTMLModel",
            "_view_count": null,
            "_view_module": "@jupyter-widgets/controls",
            "_view_module_version": "1.5.0",
            "_view_name": "HTMLView",
            "description": "",
            "description_tooltip": null,
            "layout": "IPY_MODEL_5e2e8af33c36477aba04f43ef54aa011",
            "placeholder": "​",
            "style": "IPY_MODEL_c2c833c1d84a4faebcb567bc74d05368",
            "value": " 2/2 [00:42&lt;00:00, 17.89s/it]"
          }
        },
        "2ce2874665b740ac9db3f7207e7907a4": {
          "model_module": "@jupyter-widgets/base",
          "model_name": "LayoutModel",
          "model_module_version": "1.2.0",
          "state": {
            "_model_module": "@jupyter-widgets/base",
            "_model_module_version": "1.2.0",
            "_model_name": "LayoutModel",
            "_view_count": null,
            "_view_module": "@jupyter-widgets/base",
            "_view_module_version": "1.2.0",
            "_view_name": "LayoutView",
            "align_content": null,
            "align_items": null,
            "align_self": null,
            "border": null,
            "bottom": null,
            "display": null,
            "flex": null,
            "flex_flow": null,
            "grid_area": null,
            "grid_auto_columns": null,
            "grid_auto_flow": null,
            "grid_auto_rows": null,
            "grid_column": null,
            "grid_gap": null,
            "grid_row": null,
            "grid_template_areas": null,
            "grid_template_columns": null,
            "grid_template_rows": null,
            "height": null,
            "justify_content": null,
            "justify_items": null,
            "left": null,
            "margin": null,
            "max_height": null,
            "max_width": null,
            "min_height": null,
            "min_width": null,
            "object_fit": null,
            "object_position": null,
            "order": null,
            "overflow": null,
            "overflow_x": null,
            "overflow_y": null,
            "padding": null,
            "right": null,
            "top": null,
            "visibility": null,
            "width": null
          }
        },
        "2d18f9a2752f4c15a79ac2156c044c54": {
          "model_module": "@jupyter-widgets/base",
          "model_name": "LayoutModel",
          "model_module_version": "1.2.0",
          "state": {
            "_model_module": "@jupyter-widgets/base",
            "_model_module_version": "1.2.0",
            "_model_name": "LayoutModel",
            "_view_count": null,
            "_view_module": "@jupyter-widgets/base",
            "_view_module_version": "1.2.0",
            "_view_name": "LayoutView",
            "align_content": null,
            "align_items": null,
            "align_self": null,
            "border": null,
            "bottom": null,
            "display": null,
            "flex": null,
            "flex_flow": null,
            "grid_area": null,
            "grid_auto_columns": null,
            "grid_auto_flow": null,
            "grid_auto_rows": null,
            "grid_column": null,
            "grid_gap": null,
            "grid_row": null,
            "grid_template_areas": null,
            "grid_template_columns": null,
            "grid_template_rows": null,
            "height": null,
            "justify_content": null,
            "justify_items": null,
            "left": null,
            "margin": null,
            "max_height": null,
            "max_width": null,
            "min_height": null,
            "min_width": null,
            "object_fit": null,
            "object_position": null,
            "order": null,
            "overflow": null,
            "overflow_x": null,
            "overflow_y": null,
            "padding": null,
            "right": null,
            "top": null,
            "visibility": null,
            "width": null
          }
        },
        "651e8083fe294578ac1b6b1d8f357a15": {
          "model_module": "@jupyter-widgets/controls",
          "model_name": "DescriptionStyleModel",
          "model_module_version": "1.5.0",
          "state": {
            "_model_module": "@jupyter-widgets/controls",
            "_model_module_version": "1.5.0",
            "_model_name": "DescriptionStyleModel",
            "_view_count": null,
            "_view_module": "@jupyter-widgets/base",
            "_view_module_version": "1.2.0",
            "_view_name": "StyleView",
            "description_width": ""
          }
        },
        "ee395829a5f749bb801cea311690d220": {
          "model_module": "@jupyter-widgets/base",
          "model_name": "LayoutModel",
          "model_module_version": "1.2.0",
          "state": {
            "_model_module": "@jupyter-widgets/base",
            "_model_module_version": "1.2.0",
            "_model_name": "LayoutModel",
            "_view_count": null,
            "_view_module": "@jupyter-widgets/base",
            "_view_module_version": "1.2.0",
            "_view_name": "LayoutView",
            "align_content": null,
            "align_items": null,
            "align_self": null,
            "border": null,
            "bottom": null,
            "display": null,
            "flex": null,
            "flex_flow": null,
            "grid_area": null,
            "grid_auto_columns": null,
            "grid_auto_flow": null,
            "grid_auto_rows": null,
            "grid_column": null,
            "grid_gap": null,
            "grid_row": null,
            "grid_template_areas": null,
            "grid_template_columns": null,
            "grid_template_rows": null,
            "height": null,
            "justify_content": null,
            "justify_items": null,
            "left": null,
            "margin": null,
            "max_height": null,
            "max_width": null,
            "min_height": null,
            "min_width": null,
            "object_fit": null,
            "object_position": null,
            "order": null,
            "overflow": null,
            "overflow_x": null,
            "overflow_y": null,
            "padding": null,
            "right": null,
            "top": null,
            "visibility": null,
            "width": null
          }
        },
        "d78515e4999f46b7bfd1d99ddf5e2629": {
          "model_module": "@jupyter-widgets/controls",
          "model_name": "ProgressStyleModel",
          "model_module_version": "1.5.0",
          "state": {
            "_model_module": "@jupyter-widgets/controls",
            "_model_module_version": "1.5.0",
            "_model_name": "ProgressStyleModel",
            "_view_count": null,
            "_view_module": "@jupyter-widgets/base",
            "_view_module_version": "1.2.0",
            "_view_name": "StyleView",
            "bar_color": null,
            "description_width": ""
          }
        },
        "5e2e8af33c36477aba04f43ef54aa011": {
          "model_module": "@jupyter-widgets/base",
          "model_name": "LayoutModel",
          "model_module_version": "1.2.0",
          "state": {
            "_model_module": "@jupyter-widgets/base",
            "_model_module_version": "1.2.0",
            "_model_name": "LayoutModel",
            "_view_count": null,
            "_view_module": "@jupyter-widgets/base",
            "_view_module_version": "1.2.0",
            "_view_name": "LayoutView",
            "align_content": null,
            "align_items": null,
            "align_self": null,
            "border": null,
            "bottom": null,
            "display": null,
            "flex": null,
            "flex_flow": null,
            "grid_area": null,
            "grid_auto_columns": null,
            "grid_auto_flow": null,
            "grid_auto_rows": null,
            "grid_column": null,
            "grid_gap": null,
            "grid_row": null,
            "grid_template_areas": null,
            "grid_template_columns": null,
            "grid_template_rows": null,
            "height": null,
            "justify_content": null,
            "justify_items": null,
            "left": null,
            "margin": null,
            "max_height": null,
            "max_width": null,
            "min_height": null,
            "min_width": null,
            "object_fit": null,
            "object_position": null,
            "order": null,
            "overflow": null,
            "overflow_x": null,
            "overflow_y": null,
            "padding": null,
            "right": null,
            "top": null,
            "visibility": null,
            "width": null
          }
        },
        "c2c833c1d84a4faebcb567bc74d05368": {
          "model_module": "@jupyter-widgets/controls",
          "model_name": "DescriptionStyleModel",
          "model_module_version": "1.5.0",
          "state": {
            "_model_module": "@jupyter-widgets/controls",
            "_model_module_version": "1.5.0",
            "_model_name": "DescriptionStyleModel",
            "_view_count": null,
            "_view_module": "@jupyter-widgets/base",
            "_view_module_version": "1.2.0",
            "_view_name": "StyleView",
            "description_width": ""
          }
        }
      }
    }
  },
  "nbformat": 4,
  "nbformat_minor": 0
}