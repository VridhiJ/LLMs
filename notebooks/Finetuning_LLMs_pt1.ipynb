{
  "cells": [
    {
      "cell_type": "markdown",
      "metadata": {
        "id": "Bfa8rujtIfWR"
      },
      "source": [
        "<h1 align=\"center\" style=\"color:green;font-size: 3em;\">\n",
        "Implementing Fine-tuning Techniques</h1>\n",
        "\n"
      ]
    },
    {
      "cell_type": "markdown",
      "metadata": {
        "id": "_u2emUkuIwLm"
      },
      "source": [
        "\n",
        "\n",
        "Implementing various fine-tuning methods as described in different papers, specifically LoRA and IA3.\n",
        "\n",
        "We will do this in 3 parts:\n",
        "\n",
        "Pt1:\n",
        "\n",
        "In this notebook, we will:\n",
        "\n",
        "- Evaluate the perplexity of a causal language model.\n",
        "- Fine-tune a sequence classification model using different learning rates and analyze its performance.\n"
      ]
    },
    {
      "cell_type": "markdown",
      "metadata": {
        "id": "ywkMu4GsJSNu"
      },
      "source": [
        "# Import Libraries"
      ]
    },
    {
      "cell_type": "code",
      "execution_count": null,
      "metadata": {
        "id": "cVHARZP6Nx_y"
      },
      "outputs": [],
      "source": [
        "!pip install datasets -q"
      ]
    },
    {
      "cell_type": "code",
      "execution_count": null,
      "metadata": {
        "colab": {
          "base_uri": "https://localhost:8080/"
        },
        "id": "lqY-ceD7BAff",
        "outputId": "0dee2832-d75d-4f4d-bdc3-b0a7c2d0b5c9"
      },
      "outputs": [
        {
          "output_type": "stream",
          "name": "stdout",
          "text": [
            "2.6.0+cu124\n"
          ]
        }
      ],
      "source": [
        "\n",
        "# importing required libraries\n",
        "import torch\n",
        "import torch.nn as nn\n",
        "import collections\n",
        "import random\n",
        "import numpy as np\n",
        "import math\n",
        "import matplotlib.pyplot as plt\n",
        "import warnings\n",
        "\n",
        "from torch.optim import AdamW\n",
        "from typing import List\n",
        "from torch.nn import functional as F\n",
        "from tqdm import tqdm\n",
        "from datasets import load_dataset, Dataset\n",
        "from transformers import (\n",
        "    AutoModelForCausalLM,\n",
        "    AutoTokenizer,\n",
        "    Trainer,\n",
        "    DataCollatorForLanguageModeling,\n",
        "    TrainingArguments,\n",
        ")\n",
        "from transformers import AutoModelForSequenceClassification, AutoTokenizer, AutoModelForSeq2SeqLM, AutoModelForCausalLM, T5Tokenizer, T5ForSequenceClassification\n",
        "from torch.utils.data import DataLoader\n",
        "\n",
        "warnings.simplefilter(\"ignore\")\n",
        "print(torch.__version__)"
      ]
    },
    {
      "cell_type": "code",
      "execution_count": null,
      "metadata": {
        "id": "th0qaOHclWwv",
        "colab": {
          "base_uri": "https://localhost:8080/",
          "height": 35
        },
        "outputId": "704c0d27-60d7-438a-f24f-9be52461e93b"
      },
      "outputs": [
        {
          "output_type": "execute_result",
          "data": {
            "text/plain": [
              "'cuda'"
            ],
            "application/vnd.google.colaboratory.intrinsic+json": {
              "type": "string"
            }
          },
          "metadata": {},
          "execution_count": 40
        }
      ],
      "source": [
        "device = \"cuda\" if torch.cuda.is_available() else \"cpu\"\n",
        "device"
      ]
    },
    {
      "cell_type": "markdown",
      "source": [
        "# Import and Evaluate Models\n",
        "\n",
        "The two main types of models here: causal models and sequence classification models. The primary difference between them lies in their applications and functionality.\n",
        "<hr>\n",
        "\n",
        "<h3><strong>Causal Models</strong></h3>\n",
        "\n",
        "Causal models, also known as autoregressive models, generate the next word in a sequence based on the preceding words. They are used for tasks such as text generation, language modeling, machine translation, and speech recognition. These models operate unidirectionally, predicting the next token using only previous tokens.\n",
        "\n",
        "\n",
        "<h3><strong>Sequence Classification Models</strong></h3>\n",
        "\n",
        "Sequence classification models categorize a given input sequence into predefined categories. They are useful for tasks like sentiment analysis, spam detection, topic classification, named entity recognition (NER), and document classification. These models often process the entire input sequence at once, using context from all tokens to make a classification decision."
      ],
      "metadata": {
        "id": "hdzu8LEauYxX"
      }
    },
    {
      "cell_type": "markdown",
      "source": [
        "## Causal Model\n",
        "\n",
        "First, we will initialize a causal model, specifically OPT-125m. When initializing a model, it is important to also initialize the corresponding tokenizer, as it handles the preprocessing of text data into a format that the model can understand.\n",
        "\n",
        "More about the OPT-125m model and its capabilities [here](https://huggingface.co/facebook/opt-125m).\n"
      ],
      "metadata": {
        "id": "dIchEXXLugm6"
      }
    },
    {
      "cell_type": "markdown",
      "source": [
        "First, import the causal model we are using and call it `causal_model`. Next, import the for the model and call it `causal_tokenizer`"
      ],
      "metadata": {
        "id": "jx75U6CHvFhj"
      }
    },
    {
      "cell_type": "code",
      "source": [
        "# Import the causal model\n",
        "causal_model_name = \"facebook/opt-125m\"\n",
        "causal_model = AutoModelForCausalLM.from_pretrained(causal_model_name).to(device)\n",
        "\n",
        "# Import the tokenizer\n",
        "causal_tokenizer = AutoTokenizer.from_pretrained(causal_model_name)"
      ],
      "metadata": {
        "id": "uY-eqeG6vUVF"
      },
      "execution_count": null,
      "outputs": []
    },
    {
      "cell_type": "markdown",
      "source": [
        "Our dataset for this task is Wikitext, which is a collection of articles from Wikipedia. This dataset is widely used for language modeling and text generation tasks because of its comprehensive and diverse range of topics. To read more about the Wikitext dataset and its features [here](https://huggingface.co/datasets/Salesforce/wikitext)."
      ],
      "metadata": {
        "id": "Cq_TZyx8vgBo"
      }
    },
    {
      "cell_type": "code",
      "source": [
        "# Import wikitext dataset\n",
        "causal_test = load_dataset(\"wikitext\", \"wikitext-2-raw-v1\", split=\"test\")\n",
        "causal_test_encodings = causal_tokenizer(\"\\n\\n\".join(causal_test[\"text\"]), return_tensors=\"pt\")"
      ],
      "metadata": {
        "id": "Nrfov0JJvUCT"
      },
      "execution_count": null,
      "outputs": []
    },
    {
      "cell_type": "markdown",
      "source": [
        "Next, we will evaluate our model's effectiveness on the Wikitext dataset, an industry-standard benchmark for language modeling tasks. We will use perplexity to assess how well our model generates text.\n",
        "\n",
        "Perplexity measures how well a language model predicts the next word in a sequence. It is calculated as the exponentiated average negative log-likelihood of a sequence. A lower perplexity score indicates better performance, meaning the model is more accurate and confident in its predictions. Perplexity is a standard metric for comparing models and evaluating their ability to generate natural-sounding text. For more details on perplexity, read [here](https://huggingface.co/docs/transformers/en/perplexity)."
      ],
      "metadata": {
        "id": "ONSxs1yUv7Lj"
      }
    },
    {
      "cell_type": "code",
      "source": [
        "# Implement the method to calculate the perplexity\n",
        "def calc_perplexity(model, encodings, stride):\n",
        "  \"\"\"\n",
        "  Args:\n",
        "  model: our pretrained language model that we are evaluating on\n",
        "  encodings: input encodings containing input_ids and other relevant attributes\n",
        "  stride: the step size for segmenting the input sequence\n",
        "\n",
        "  Returns:\n",
        "  The perplexity of the model on the given dataset.\n",
        "  \"\"\"\n",
        "\n",
        "  # Define max_length and seq_len\n",
        "  max_length = 1024\n",
        "  seq_len = encodings.input_ids.size(1)\n",
        "\n",
        "  nlls = []\n",
        "  prev_end_loc = 0\n",
        "\n",
        "  # Loop through the sequence with the given stride\n",
        "  for begin_loc in tqdm(range(0, seq_len, stride)):\n",
        "      end_loc = min(begin_loc + max_length, seq_len)\n",
        "      trg_len = end_loc - prev_end_loc\n",
        "\n",
        "      # Get the input_ids for the current chunk and move to the correct device\n",
        "      input_ids = encodings.input_ids[:, begin_loc: end_loc].to(model.device)\n",
        "      target_ids = input_ids.clone()\n",
        "\n",
        "      # Mask out non-target positions\n",
        "      target_ids[:, :-trg_len] = -100\n",
        "\n",
        "      # Ensure no gradients are calculated\n",
        "      with torch.no_grad():\n",
        "          # Get the model outputs\n",
        "          outputs = model(input_ids, labels=target_ids)\n",
        "          neg_log_likelihood = outputs.loss\n",
        "\n",
        "      nlls.append(neg_log_likelihood)\n",
        "\n",
        "      prev_end_loc = end_loc\n",
        "      if end_loc == seq_len:\n",
        "          break\n",
        "\n",
        "  # Return the perplexity\n",
        "  return torch.exp(torch.stack(nlls).mean())"
      ],
      "metadata": {
        "id": "vwW5sGM_wJkH"
      },
      "execution_count": null,
      "outputs": []
    },
    {
      "cell_type": "code",
      "source": [
        "## Calculate the perplexity of our causal model\n",
        "calc_perplexity(causal_model, causal_test_encodings, 256)"
      ],
      "metadata": {
        "colab": {
          "base_uri": "https://localhost:8080/"
        },
        "id": "zOtCnN2vxMPk",
        "outputId": "1bcb9811-8ecd-4052-bf46-4302624f895e"
      },
      "execution_count": null,
      "outputs": [
        {
          "output_type": "stream",
          "name": "stderr",
          "text": [
            "100%|█████████▉| 1120/1124 [01:37<00:00, 11.51it/s]\n"
          ]
        },
        {
          "output_type": "execute_result",
          "data": {
            "text/plain": [
              "tensor(25.3988, device='cuda:0')"
            ]
          },
          "metadata": {},
          "execution_count": 44
        }
      ]
    },
    {
      "cell_type": "markdown",
      "source": [
        "## Sequence Classification Model\n",
        "\n",
        "For sequence classification tasks, we will use T5-small, a model developed by Google and one of the more popular options available on Hugging Face. T5-small is a member of the T5 (Text-to-Text Transfer Transformer) family, which includes other models like T5-base and T5-large. While T5-small is efficient and suitable for many tasks, the larger models in this family offer more capacity and may provide improved performance but require significantly more computational resources and time for training and inference. Read more about T5-small [here](https://huggingface.co/google-t5/t5-small).\n",
        "\n",
        "\n",
        "\n",
        "First, we will import the sequence model that we are using and call it `seq_model`. Next, we will import the for the model and call it `seq_tokenizer`."
      ],
      "metadata": {
        "id": "zXgOK31Gc22c"
      }
    },
    {
      "cell_type": "code",
      "source": [
        "# Import the sequence model\n",
        "seq_model_name = \"t5-small\"\n",
        "num_classes = 3\n",
        "seq_model = T5ForSequenceClassification.from_pretrained(seq_model_name, num_labels=num_classes).to(device)\n",
        "\n",
        "# Import the tokenizer\n",
        "seq_tokenizer = AutoTokenizer.from_pretrained(seq_model_name)"
      ],
      "metadata": {
        "colab": {
          "base_uri": "https://localhost:8080/"
        },
        "id": "Tx26CvEZdGgH",
        "outputId": "209b0410-36fe-423c-f619-f1d0da6f15ce"
      },
      "execution_count": null,
      "outputs": [
        {
          "output_type": "stream",
          "name": "stderr",
          "text": [
            "Some weights of T5ForSequenceClassification were not initialized from the model checkpoint at t5-small and are newly initialized: ['classification_head.dense.bias', 'classification_head.dense.weight', 'classification_head.out_proj.bias', 'classification_head.out_proj.weight']\n",
            "You should probably TRAIN this model on a down-stream task to be able to use it for predictions and inference.\n"
          ]
        }
      ]
    },
    {
      "cell_type": "markdown",
      "source": [
        "The dataset we will be using is called CommitmentBank (CB). Each data point in this dataset consists of a premise, a hypothesis, and a label. The premise and hypothesis are both sentences, while the label is an integer from 0 to 2, indicating the relationship between the hypothesis and the premise in one of three categories: entailment, contradiction, or neutral.\n",
        "\n",
        "A key difference between the CB dataset and the WikiText dataset is that the CB dataset requires manual cleaning and preprocessing. This means we need to ensure the data is properly formatted and any noise is removed before it can be used for training and evaluation."
      ],
      "metadata": {
        "id": "HZB-p55RdL9N"
      }
    },
    {
      "cell_type": "code",
      "source": [
        "# Load the cb dataset\n",
        "# Input \"y\" for \"Do you wish to run the custom code?\"\n",
        "cb_dataset = load_dataset('super_glue', 'cb')"
      ],
      "metadata": {
        "id": "7kMlBtzVdOe3"
      },
      "execution_count": null,
      "outputs": []
    },
    {
      "cell_type": "code",
      "source": [
        "print(cb_dataset[\"train\"].column_names)"
      ],
      "metadata": {
        "colab": {
          "base_uri": "https://localhost:8080/"
        },
        "id": "xLdBZ_dgdaNn",
        "outputId": "55daf3fc-32dc-437b-840c-8c2b689fad29"
      },
      "execution_count": null,
      "outputs": [
        {
          "output_type": "stream",
          "name": "stdout",
          "text": [
            "['premise', 'hypothesis', 'idx', 'label']\n"
          ]
        }
      ]
    },
    {
      "cell_type": "code",
      "source": [
        "def preprocess_function(examples):\n",
        "    # Put sentence1 and sentence2 in a tuple\n",
        "    inputs = (examples[\"premise\"], examples[\"hypothesis\"])\n",
        "\n",
        "    # Put the inputs inside a tokenizer\n",
        "    result = seq_tokenizer(inputs[0],\n",
        "                           inputs[1],\n",
        "                           max_length=512,\n",
        "                           truncation=True,\n",
        "                           padding=\"max_length\",\n",
        "                           return_tensors=\"pt\",\n",
        "                           add_special_tokens=True)\n",
        "\n",
        "    result['labels'] = examples[\"label\"]\n",
        "\n",
        "    ## Delete unnecessary keys\n",
        "    del examples[\"premise\"]\n",
        "    del examples[\"hypothesis\"]\n",
        "    del examples[\"idx\"]\n",
        "    del examples[\"label\"]\n",
        "    return result"
      ],
      "metadata": {
        "id": "_iOQVmnJdaLZ"
      },
      "execution_count": null,
      "outputs": []
    },
    {
      "cell_type": "code",
      "source": [
        "# Load cb's train and validation sets\n",
        "seq_train_dataset = cb_dataset['train'].map(preprocess_function, batched=True)\n",
        "seq_train_loader = DataLoader(seq_train_dataset, batch_size=8)\n",
        "print(f\"There are {len(seq_train_dataset)} number of training examples\")\n",
        "\n",
        "seq_test_dataset = cb_dataset['validation'].map(preprocess_function, batched=True)\n",
        "seq_test_loader = DataLoader(seq_test_dataset, batch_size=8)\n",
        "print(f\"There are {len(seq_test_dataset)} number of validation examples\")"
      ],
      "metadata": {
        "colab": {
          "base_uri": "https://localhost:8080/",
          "height": 85,
          "referenced_widgets": [
            "dc91767fb0d248228ec2ced902d6afe0",
            "303dfb9b9a7a4faaa381391f4b1133b3",
            "325a45d0fc284924a781bc899204a512",
            "bc509a179e234a79bdd7edd96d0cd7d6",
            "76f59a5a930242abb4114a6805d3c754",
            "7df6768bf9c34e57b2331c9d495ae150",
            "5ca6f87f01fb40adb837ab52ae6a5677",
            "133e5268601643e09656fc8e278d8eaf",
            "91245637040642d399a00b1c7cfab7d1",
            "d3c5b6045d6644e78aef5ba0b3d32cc2",
            "682fe25bf34241829ff7bca52a886843"
          ]
        },
        "id": "pxjInkbkdaIs",
        "outputId": "d26fc4d2-ba6b-4466-c8c6-851cc2eb306d"
      },
      "execution_count": null,
      "outputs": [
        {
          "output_type": "stream",
          "name": "stdout",
          "text": [
            "There are 250 number of training examples\n"
          ]
        },
        {
          "output_type": "display_data",
          "data": {
            "text/plain": [
              "Map:   0%|          | 0/56 [00:00<?, ? examples/s]"
            ],
            "application/vnd.jupyter.widget-view+json": {
              "version_major": 2,
              "version_minor": 0,
              "model_id": "dc91767fb0d248228ec2ced902d6afe0"
            }
          },
          "metadata": {}
        },
        {
          "output_type": "stream",
          "name": "stdout",
          "text": [
            "There are 56 number of validation examples\n"
          ]
        }
      ]
    },
    {
      "cell_type": "markdown",
      "source": [
        "For sequence classification models, we don't usually use perplexity to calculate our performance. Instead, we calculate the accuracy of the model which is just the number of correct predictions / the number of total predictions.\n"
      ],
      "metadata": {
        "id": "370_diQrdl_O"
      }
    },
    {
      "cell_type": "code",
      "source": [
        "for batch in seq_test_loader:\n",
        "    print(batch.keys())\n",
        "    print(torch.stack(batch['input_ids'], dim = 0).shape)\n",
        "    print(torch.stack(batch['attention_mask'], dim = 0).shape)\n",
        "    print(batch['labels'].shape)\n",
        "    break"
      ],
      "metadata": {
        "colab": {
          "base_uri": "https://localhost:8080/"
        },
        "id": "R5p1suV5lfep",
        "outputId": "493a752f-fe39-449c-a2c6-23a625537400"
      },
      "execution_count": null,
      "outputs": [
        {
          "output_type": "stream",
          "name": "stdout",
          "text": [
            "dict_keys(['input_ids', 'attention_mask', 'labels'])\n",
            "torch.Size([512, 8])\n",
            "torch.Size([512, 8])\n",
            "torch.Size([8])\n"
          ]
        }
      ]
    },
    {
      "cell_type": "code",
      "source": [
        "for batch in seq_test_loader:\n",
        "    labels = batch['labels']\n",
        "print(labels.unique())"
      ],
      "metadata": {
        "colab": {
          "base_uri": "https://localhost:8080/"
        },
        "id": "CTu3uAjzlq55",
        "outputId": "9b4b8c54-180c-4acd-ab66-b0eb7a27f3c1"
      },
      "execution_count": null,
      "outputs": [
        {
          "output_type": "stream",
          "name": "stdout",
          "text": [
            "tensor([0, 1, 2])\n"
          ]
        }
      ]
    },
    {
      "cell_type": "code",
      "source": [
        "def compute_accuracy(predictions, labels):\n",
        "    preds = torch.argmax(predictions, dim=1).squeeze()\n",
        "    labels = labels.squeeze()\n",
        "\n",
        "    return (preds == labels).float().mean().item()\n",
        "\n",
        "\n",
        "def calc_accuracy(model, dataloader, device):\n",
        "  model.to(device)\n",
        "  model.eval()  # Set the model to evaluation mode\n",
        "  total_accuracy = 0\n",
        "  total_batches = 0\n",
        "\n",
        "\n",
        "  with torch.no_grad():  # Disable gradient calculation for inference\n",
        "      for batch in dataloader:\n",
        "        # Extract tensors from the batch dictionary\n",
        "        input_ids = batch['input_ids']  # List of tensors\n",
        "        attention_mask = batch['attention_mask']  # List of tensors\n",
        "        labels = batch['labels']  # Tensor of labels\n",
        "\n",
        "        input_ids = torch.stack(input_ids, dim = 0).transpose(0,1).to(device) # Shape [batch_size, seq_len]\n",
        "        attention_mask = torch.stack(attention_mask, dim = 0).transpose(0,1).to(device) # Shape [batch_size, seq_len]\n",
        "        labels = labels.to(device) # Shape [batch_size]\n",
        "\n",
        "\n",
        "        # Perform a forward pass\n",
        "        outputs = model(input_ids=input_ids, attention_mask=attention_mask, labels=labels)\n",
        "        predictions = outputs.logits\n",
        "\n",
        "\n",
        "        # Compute accuracy for the current batch\n",
        "        batch_accuracy = compute_accuracy(predictions, labels)\n",
        "        total_accuracy += batch_accuracy\n",
        "        total_batches += 1\n",
        "\n",
        "  # Return the overall accuracy\n",
        "  return total_accuracy / total_batches"
      ],
      "metadata": {
        "id": "7GATWvXmdaCF"
      },
      "execution_count": null,
      "outputs": []
    },
    {
      "cell_type": "code",
      "source": [
        "final_accuracy = calc_accuracy(seq_model, seq_test_loader, device)\n",
        "print(f\"Final accuracy is {final_accuracy}\")"
      ],
      "metadata": {
        "colab": {
          "base_uri": "https://localhost:8080/"
        },
        "id": "hVzjQAeqdwZN",
        "outputId": "8bba0369-15ac-437f-de84-b7a56b8855be"
      },
      "execution_count": null,
      "outputs": [
        {
          "output_type": "stream",
          "name": "stdout",
          "text": [
            "Final accuracy is 0.4642857142857143\n"
          ]
        }
      ]
    },
    {
      "cell_type": "markdown",
      "source": [
        "# Full Fine-tuning\n",
        "\n",
        "In this section, we are going to fine-tune our entire sequence classification model. The purpose of fine-tuning is to adapt a pre-trained model, like T5 from Hugging Face, to our specific task of CB. By using the pre-existing knowledge encoded in the model's weights, fine-tuning allows us to improve performance on CB-related tasks by adjusting these weights based on our dataset."
      ],
      "metadata": {
        "id": "RD890mCUd1sr"
      }
    },
    {
      "cell_type": "markdown",
      "source": [
        "## Setting Parameters as Trainable\n",
        "\n",
        "First, we want to understand more about our model by making the parameters trainable and calculating the estimated GPU memory usage.\n",
        "\n",
        "\n",
        "- Set every parameter in our model to be trainable and caluclate the total number of trainable parameters as well as an estimated GPU memory usage of the trainable parameters.\n"
      ],
      "metadata": {
        "id": "HUdmg5wDd9Xc"
      }
    },
    {
      "cell_type": "code",
      "source": [
        "# Set every parameter in the model as trainable\n",
        "def set_trainable_parameters(model):\n",
        "    for param in model.parameters():\n",
        "        param.requires_grad = True"
      ],
      "metadata": {
        "id": "n_h9Laesd0ms"
      },
      "execution_count": null,
      "outputs": []
    },
    {
      "cell_type": "code",
      "source": [
        "# Calculate the number of trainable parameters\n",
        "def num_trainable_parameters(model):\n",
        "    return sum(p.numel() for p in model.parameters() if p.requires_grad)"
      ],
      "metadata": {
        "id": "GPVS8msHd0j0"
      },
      "execution_count": null,
      "outputs": []
    },
    {
      "cell_type": "code",
      "source": [
        "# Calculate the estimated GPU memory usage in megabytes\n",
        "def estimated_gpu_memory_usage(num_params):\n",
        "    # 4 bytes of memory for each of the parameter; converted to MB\n",
        "    return (num_params * 4) / (1024 ** 2)"
      ],
      "metadata": {
        "id": "Z7Jknzsud0hG"
      },
      "execution_count": null,
      "outputs": []
    },
    {
      "cell_type": "markdown",
      "source": [
        "## Fine-tune Trainer Class\n",
        "\n",
        "Next, we want to show how different learning rates affect our fine-tuning. To do so, we will implement the methods inside our Trainer class so we can train and perform inference on our model.\n",
        "\n",
        "\n",
        "We need to implement the following methods inside the Trainer class:\n",
        "\n",
        "`__init__`\n",
        "\n",
        "- Initialize the model, learning rate, optimizer, device, and the loaders\n",
        "- Run the `set_seed` method provided below\n",
        "\n",
        "\n",
        "`train_one_epoch`\n",
        "\n",
        "- Trains the model on the train loader for one epoch and returns the loss and accuracy of that epoch\n",
        "\n",
        "`evaluate_one_epoch`\n",
        "\n",
        "-  Evaluates the modle on the validation loader for one epoch and returns the loss and accuracy of that epoch\n",
        "\n",
        "`train_and_evaluate`\n",
        "\n",
        "- Trains and evaluates the model on multiple epochs"
      ],
      "metadata": {
        "id": "4kjgE-yxePDK"
      }
    },
    {
      "cell_type": "code",
      "source": [
        "# Implement the trainer class\n",
        "class Trainer:\n",
        "    def __init__(self, model, train_loader, val_loader, learning_rate=1e-5, seed=42):\n",
        "        self.model = model.to(device)\n",
        "        self.train_loader = train_loader\n",
        "        self.val_loader = val_loader\n",
        "        self.learning_rate = learning_rate\n",
        "        self.optimizer = AdamW(self.model.parameters(), lr=self.learning_rate)\n",
        "        self.seed = seed\n",
        "        self.training_losses = [] # initializing the training loss\n",
        "        self.validation_losses = [] # initializing the validation loss\n",
        "        self.set_seed()\n",
        "\n",
        "    # Sets the seed\n",
        "    def set_seed(self):\n",
        "        torch.manual_seed(self.seed)\n",
        "        torch.cuda.manual_seed_all(self.seed)\n",
        "        np.random.seed(self.seed)\n",
        "        random.seed(self.seed)\n",
        "\n",
        "    def train_one_epoch(self):\n",
        "        self.model.train()  # Set the model to training mode\n",
        "        total_loss = 0\n",
        "        total_accuracy = 0\n",
        "        total_batches = 0\n",
        "\n",
        "        for batch in self.train_loader:\n",
        "            # Extract tensors from the batch dictionary\n",
        "            input_ids = batch['input_ids']  # List of tensors\n",
        "            attention_mask = batch['attention_mask']  # List of tensors\n",
        "            labels = batch['labels']  # Tensor of labels\n",
        "\n",
        "            input_ids = torch.stack(input_ids, dim = 0).transpose(0,1).to(device) # Shape [batch_size, seq_len]\n",
        "            attention_mask = torch.stack(attention_mask, dim = 0).transpose(0,1).to(device) # Shape [batch_size, seq_len]\n",
        "            labels = labels.to(device) # Shape [batch_size]\n",
        "\n",
        "            # Zero the gradients\n",
        "            self.optimizer.zero_grad()\n",
        "\n",
        "            # Forward pass\n",
        "            outputs = self.model(input_ids=input_ids, attention_mask=attention_mask, labels=labels)\n",
        "            loss = outputs.loss\n",
        "            total_loss += loss.item()\n",
        "\n",
        "            # Backward pass\n",
        "            loss.backward()\n",
        "            self.optimizer.step()  # Update the model parameters\n",
        "\n",
        "            # Calculate accuracy\n",
        "            logits = outputs.logits\n",
        "            accuracy = compute_accuracy(logits, labels)\n",
        "            total_accuracy += accuracy\n",
        "            total_batches += 1\n",
        "\n",
        "        avg_loss = total_loss / len(self.train_loader)\n",
        "        avg_accuracy = total_accuracy / total_batches\n",
        "        return avg_loss, avg_accuracy\n",
        "\n",
        "    def evaluate_one_epoch(self):\n",
        "        self.model.eval()  # Set the model to evaluation mode\n",
        "        total_loss = 0\n",
        "        total_accuracy = 0\n",
        "        total_batches = 0\n",
        "\n",
        "        with torch.no_grad():  # Disable gradient calculation\n",
        "            for batch in self.val_loader:\n",
        "                # Extract tensors from the batch dictionary\n",
        "                input_ids = batch['input_ids']  # List of tensors\n",
        "                attention_mask = batch['attention_mask']  # List of tensors\n",
        "                labels = batch['labels']  # Tensor of labels\n",
        "\n",
        "                input_ids = torch.stack(input_ids, dim = 0).transpose(0,1).to(device) # Shape [batch_size, seq_len]\n",
        "                attention_mask = torch.stack(attention_mask, dim = 0).transpose(0,1).to(device) # Shape [batch_size, seq_len]\n",
        "                labels = labels.to(device) # Shape [batch_size]\n",
        "\n",
        "                # Forward pass\n",
        "                outputs = self.model(input_ids=input_ids, attention_mask=attention_mask, labels=labels)\n",
        "                loss = outputs.loss\n",
        "                total_loss += loss.item()\n",
        "\n",
        "                logits = outputs.logits\n",
        "                accuracy = compute_accuracy(logits, labels)\n",
        "                total_accuracy += accuracy\n",
        "                total_batches += 1\n",
        "\n",
        "        avg_loss = total_loss / len(self.val_loader)\n",
        "        avg_accuracy = total_accuracy / total_batches\n",
        "        return avg_loss, avg_accuracy\n",
        "\n",
        "    def train_and_evaluate(self, num_epochs, verbose=True):\n",
        "        for epoch in range(num_epochs):\n",
        "            # calculating training loss and accuracy for each epoch\n",
        "            train_loss, train_accuracy = self.train_one_epoch()\n",
        "            # calculating validation loss and accuracy for each epoch\n",
        "            val_loss, val_accuracy = self.evaluate_one_epoch()\n",
        "\n",
        "            self.training_losses.append(train_loss)\n",
        "            self.validation_losses.append(val_loss)\n",
        "\n",
        "            if verbose:\n",
        "                print(f'Epoch {epoch + 1}/{num_epochs}:')\n",
        "                print(f'Train Loss: {train_loss:.4f}, Train Accuracy: {train_accuracy:.4f}')\n",
        "                print(f'Validation Loss: {val_loss:.4f}, Validation Accuracy: {val_accuracy:.4f}\\n')\n",
        "\n",
        "        # Return a dictionary containing training and validation losses\n",
        "        return {'train_losses': self.training_losses, 'validation_losses': self.validation_losses}"
      ],
      "metadata": {
        "id": "nhdi8pwsebOT"
      },
      "execution_count": null,
      "outputs": []
    },
    {
      "cell_type": "markdown",
      "source": [
        "After finishing the Trainer class, train the different learning rates on 5 epochs each (let the seed be 42) and record the train losses, validation losses, train accuracies, and validation accuracies for each epoch."
      ],
      "metadata": {
        "id": "wOTtTvh_ejtY"
      }
    },
    {
      "cell_type": "code",
      "source": [
        "learning_rates = [1e-1, 1e-2, 1e-3, 1e-4]\n",
        "epochs = 5\n",
        "seed = 42\n",
        "all_results = {}\n",
        "\n",
        "for lr in learning_rates:\n",
        "    print(f'\\n\\nTraining with learning rate: {lr}')\n",
        "    trainer = Trainer(seq_model,\n",
        "                      seq_train_loader,\n",
        "                      seq_test_loader,\n",
        "                      learning_rate=lr,\n",
        "                      seed=seed)\n",
        "    all_results[lr] = trainer.train_and_evaluate(num_epochs=epochs)"
      ],
      "metadata": {
        "colab": {
          "base_uri": "https://localhost:8080/"
        },
        "id": "LjJNzNpbebL9",
        "outputId": "05f18a2f-d8f7-4e76-dc6c-ed68dbf52e3f"
      },
      "execution_count": null,
      "outputs": [
        {
          "output_type": "stream",
          "name": "stdout",
          "text": [
            "\n",
            "\n",
            "Training with learning rate: 0.1\n",
            "Epoch 1/5:\n",
            "Train Loss: 56.2101, Train Accuracy: 0.4258\n",
            "Validation Loss: 64.2568, Validation Accuracy: 0.5000\n",
            "\n",
            "Epoch 2/5:\n",
            "Train Loss: 56.7399, Train Accuracy: 0.5625\n",
            "Validation Loss: 70.7036, Validation Accuracy: 0.0893\n",
            "\n",
            "Epoch 3/5:\n",
            "Train Loss: 61.8864, Train Accuracy: 0.5586\n",
            "Validation Loss: 66.9714, Validation Accuracy: 0.5000\n",
            "\n",
            "Epoch 4/5:\n",
            "Train Loss: 95.4692, Train Accuracy: 0.4414\n",
            "Validation Loss: 133.8208, Validation Accuracy: 0.5000\n",
            "\n",
            "Epoch 5/5:\n",
            "Train Loss: 89.3691, Train Accuracy: 0.4492\n",
            "Validation Loss: 58.1671, Validation Accuracy: 0.5000\n",
            "\n",
            "\n",
            "\n",
            "Training with learning rate: 0.01\n",
            "Epoch 1/5:\n",
            "Train Loss: 30.7535, Train Accuracy: 0.3867\n",
            "Validation Loss: 23.7000, Validation Accuracy: 0.5000\n",
            "\n",
            "Epoch 2/5:\n",
            "Train Loss: 14.2645, Train Accuracy: 0.4531\n",
            "Validation Loss: 14.0914, Validation Accuracy: 0.5000\n",
            "\n",
            "Epoch 3/5:\n",
            "Train Loss: 9.6760, Train Accuracy: 0.4297\n",
            "Validation Loss: 10.9910, Validation Accuracy: 0.5000\n",
            "\n",
            "Epoch 4/5:\n",
            "Train Loss: 9.2711, Train Accuracy: 0.4297\n",
            "Validation Loss: 10.3819, Validation Accuracy: 0.5000\n",
            "\n",
            "Epoch 5/5:\n",
            "Train Loss: 8.2969, Train Accuracy: 0.4805\n",
            "Validation Loss: 9.3795, Validation Accuracy: 0.5000\n",
            "\n",
            "\n",
            "\n",
            "Training with learning rate: 0.001\n",
            "Epoch 1/5:\n",
            "Train Loss: 5.0519, Train Accuracy: 0.2930\n",
            "Validation Loss: 1.4144, Validation Accuracy: 0.5000\n",
            "\n",
            "Epoch 2/5:\n",
            "Train Loss: 1.1696, Train Accuracy: 0.4609\n",
            "Validation Loss: 1.4334, Validation Accuracy: 0.5000\n",
            "\n",
            "Epoch 3/5:\n",
            "Train Loss: 1.4843, Train Accuracy: 0.4062\n",
            "Validation Loss: 1.6495, Validation Accuracy: 0.5000\n",
            "\n",
            "Epoch 4/5:\n",
            "Train Loss: 1.5764, Train Accuracy: 0.3828\n",
            "Validation Loss: 1.6309, Validation Accuracy: 0.5000\n",
            "\n",
            "Epoch 5/5:\n",
            "Train Loss: 1.5629, Train Accuracy: 0.3828\n",
            "Validation Loss: 1.6161, Validation Accuracy: 0.5000\n",
            "\n",
            "\n",
            "\n",
            "Training with learning rate: 0.0001\n",
            "Epoch 1/5:\n",
            "Train Loss: 1.3838, Train Accuracy: 0.4648\n",
            "Validation Loss: 0.9936, Validation Accuracy: 0.5000\n",
            "\n",
            "Epoch 2/5:\n",
            "Train Loss: 0.9894, Train Accuracy: 0.2227\n",
            "Validation Loss: 0.9309, Validation Accuracy: 0.5000\n",
            "\n",
            "Epoch 3/5:\n",
            "Train Loss: 0.9242, Train Accuracy: 0.3438\n",
            "Validation Loss: 0.9325, Validation Accuracy: 0.5000\n",
            "\n",
            "Epoch 4/5:\n",
            "Train Loss: 0.9229, Train Accuracy: 0.3203\n",
            "Validation Loss: 0.9329, Validation Accuracy: 0.5000\n",
            "\n",
            "Epoch 5/5:\n",
            "Train Loss: 0.9262, Train Accuracy: 0.2969\n",
            "Validation Loss: 0.9330, Validation Accuracy: 0.5000\n",
            "\n"
          ]
        }
      ]
    },
    {
      "cell_type": "markdown",
      "source": [
        "## Visualize Fine-tuning Results\n",
        "\n",
        "Now, we want to see the results of what we fine-tuned by graphing the loss curve.\n",
        "\n",
        "\n",
        "Using the results from the previous section, we will generate a graph that has all the learning rate's training and validation loss values for each epoch. The graph should clearly illustrate the performance metrics across different learning rates for each epoch and have an appropriate title."
      ],
      "metadata": {
        "id": "sKrI05mBeo2f"
      }
    },
    {
      "cell_type": "code",
      "source": [
        "print(all_results)"
      ],
      "metadata": {
        "colab": {
          "base_uri": "https://localhost:8080/"
        },
        "id": "ofdmj1pWm3vz",
        "outputId": "cb2421e0-70a0-4502-95b5-dd67363c9ab8"
      },
      "execution_count": null,
      "outputs": [
        {
          "output_type": "stream",
          "name": "stdout",
          "text": [
            "{0.1: {'train_losses': [56.21007387153804, 56.7399475350976, 61.886376194655895, 95.46922868397087, 89.36906404048204], 'validation_losses': [64.25682830810547, 70.70358167375836, 66.97140284946987, 133.82080078125, 58.16710935320173]}, 0.01: {'train_losses': [30.753516160176332, 14.264501633122563, 9.67604010924697, 9.27113822937281, 8.296889511868358], 'validation_losses': [23.69998332432338, 14.091424124581474, 10.990960666111537, 10.38188375745501, 9.379475593566895]}, 0.001: {'train_losses': [5.051852583885193, 1.1696298765018582, 1.4843337971251458, 1.576390418689698, 1.5628666516859084], 'validation_losses': [1.4144180076462882, 1.4333911623273576, 1.6494542871202742, 1.6308697291782923, 1.6161297389439173]}, 0.0001: {'train_losses': [1.3838109588250518, 0.9893508944660425, 0.9242147821933031, 0.92287309281528, 0.9261827040463686], 'validation_losses': [0.993640559060233, 0.9309227551732745, 0.9325342518942696, 0.9329154406275068, 0.9329632520675659]}}\n"
          ]
        }
      ]
    },
    {
      "cell_type": "code",
      "source": [
        "def loss_curve(all_results, learning_rates):\n",
        "    plt.figure(figsize=(10, 6))\n",
        "\n",
        "    # Iterate over each learning rate and plot the loss curves\n",
        "    for lr in learning_rates:\n",
        "      train_losses = all_results[lr]['train_losses']\n",
        "      validation_losses = all_results[lr]['validation_losses']\n",
        "\n",
        "      # Plot training and validation losses\n",
        "      plt.plot(train_losses, label=f'Train Loss (LR={lr})', marker='s')\n",
        "      plt.plot(validation_losses, label=f'Validation Loss (LR={lr})', marker='o')\n",
        "\n",
        "    plt.title('Training and Validation Loss Curves for Different Learning Rates')\n",
        "    plt.xlabel('Epochs')\n",
        "    plt.ylabel('Loss')\n",
        "    plt.legend()\n",
        "    plt.grid()\n",
        "    plt.show()\n",
        "\n",
        "loss_curve(all_results, learning_rates)"
      ],
      "metadata": {
        "colab": {
          "base_uri": "https://localhost:8080/",
          "height": 564
        },
        "id": "hPNdXQFcebJc",
        "outputId": "d061b51f-7070-490a-c57e-a035c01d422b"
      },
      "execution_count": null,
      "outputs": [
        {
          "output_type": "display_data",
          "data": {
            "text/plain": [
              "<Figure size 1000x600 with 1 Axes>"
            ],
            "image/png": "[encoded data removed]"
          },
          "metadata": {}
        }
      ]
    },
    {
      "cell_type": "markdown",
      "source": [
        "## Observation:\n",
        "The loss increases across the epochs for some learning rates. For example,\n",
        "\n",
        "- For learning rate = 0.1, we observe that both the both the validation and training loss increases. This might be because the learning rate is too high and the model misses the optimal solution because of the large gradient descent.\n",
        "\n",
        "- For learning rate = 0.001, since validation loss is increasing slightly across epochs but training loss is reducing, we can say that this might be due to overfitting."
      ],
      "metadata": {
        "id": "OTK9ZtBgfCVD"
      }
    }
  ],
  "metadata": {
    "accelerator": "GPU",
    "colab": {
      "gpuType": "T4",
      "provenance": []
    },
    "kernelspec": {
      "display_name": "Python 3",
      "name": "python3"
    },
    "language_info": {
      "name": "python"
    },
    "widgets": {
      "application/vnd.jupyter.widget-state+json": {
        "dc91767fb0d248228ec2ced902d6afe0": {
          "model_module": "@jupyter-widgets/controls",
          "model_name": "HBoxModel",
          "model_module_version": "1.5.0",
          "state": {
            "_dom_classes": [],
            "_model_module": "@jupyter-widgets/controls",
            "_model_module_version": "1.5.0",
            "_model_name": "HBoxModel",
            "_view_count": null,
            "_view_module": "@jupyter-widgets/controls",
            "_view_module_version": "1.5.0",
            "_view_name": "HBoxView",
            "box_style": "",
            "children": [
              "IPY_MODEL_303dfb9b9a7a4faaa381391f4b1133b3",
              "IPY_MODEL_325a45d0fc284924a781bc899204a512",
              "IPY_MODEL_bc509a179e234a79bdd7edd96d0cd7d6"
            ],
            "layout": "IPY_MODEL_76f59a5a930242abb4114a6805d3c754"
          }
        },
        "303dfb9b9a7a4faaa381391f4b1133b3": {
          "model_module": "@jupyter-widgets/controls",
          "model_name": "HTMLModel",
          "model_module_version": "1.5.0",
          "state": {
            "_dom_classes": [],
            "_model_module": "@jupyter-widgets/controls",
            "_model_module_version": "1.5.0",
            "_model_name": "HTMLModel",
            "_view_count": null,
            "_view_module": "@jupyter-widgets/controls",
            "_view_module_version": "1.5.0",
            "_view_name": "HTMLView",
            "description": "",
            "description_tooltip": null,
            "layout": "IPY_MODEL_7df6768bf9c34e57b2331c9d495ae150",
            "placeholder": "​",
            "style": "IPY_MODEL_5ca6f87f01fb40adb837ab52ae6a5677",
            "value": "Map: 100%"
          }
        },
        "325a45d0fc284924a781bc899204a512": {
          "model_module": "@jupyter-widgets/controls",
          "model_name": "FloatProgressModel",
          "model_module_version": "1.5.0",
          "state": {
            "_dom_classes": [],
            "_model_module": "@jupyter-widgets/controls",
            "_model_module_version": "1.5.0",
            "_model_name": "FloatProgressModel",
            "_view_count": null,
            "_view_module": "@jupyter-widgets/controls",
            "_view_module_version": "1.5.0",
            "_view_name": "ProgressView",
            "bar_style": "success",
            "description": "",
            "description_tooltip": null,
            "layout": "IPY_MODEL_133e5268601643e09656fc8e278d8eaf",
            "max": 56,
            "min": 0,
            "orientation": "horizontal",
            "style": "IPY_MODEL_91245637040642d399a00b1c7cfab7d1",
            "value": 56
          }
        },
        "bc509a179e234a79bdd7edd96d0cd7d6": {
          "model_module": "@jupyter-widgets/controls",
          "model_name": "HTMLModel",
          "model_module_version": "1.5.0",
          "state": {
            "_dom_classes": [],
            "_model_module": "@jupyter-widgets/controls",
            "_model_module_version": "1.5.0",
            "_model_name": "HTMLModel",
            "_view_count": null,
            "_view_module": "@jupyter-widgets/controls",
            "_view_module_version": "1.5.0",
            "_view_name": "HTMLView",
            "description": "",
            "description_tooltip": null,
            "layout": "IPY_MODEL_d3c5b6045d6644e78aef5ba0b3d32cc2",
            "placeholder": "​",
            "style": "IPY_MODEL_682fe25bf34241829ff7bca52a886843",
            "value": " 56/56 [00:00&lt;00:00, 1012.76 examples/s]"
          }
        },
        "76f59a5a930242abb4114a6805d3c754": {
          "model_module": "@jupyter-widgets/base",
          "model_name": "LayoutModel",
          "model_module_version": "1.2.0",
          "state": {
            "_model_module": "@jupyter-widgets/base",
            "_model_module_version": "1.2.0",
            "_model_name": "LayoutModel",
            "_view_count": null,
            "_view_module": "@jupyter-widgets/base",
            "_view_module_version": "1.2.0",
            "_view_name": "LayoutView",
            "align_content": null,
            "align_items": null,
            "align_self": null,
            "border": null,
            "bottom": null,
            "display": null,
            "flex": null,
            "flex_flow": null,
            "grid_area": null,
            "grid_auto_columns": null,
            "grid_auto_flow": null,
            "grid_auto_rows": null,
            "grid_column": null,
            "grid_gap": null,
            "grid_row": null,
            "grid_template_areas": null,
            "grid_template_columns": null,
            "grid_template_rows": null,
            "height": null,
            "justify_content": null,
            "justify_items": null,
            "left": null,
            "margin": null,
            "max_height": null,
            "max_width": null,
            "min_height": null,
            "min_width": null,
            "object_fit": null,
            "object_position": null,
            "order": null,
            "overflow": null,
            "overflow_x": null,
            "overflow_y": null,
            "padding": null,
            "right": null,
            "top": null,
            "visibility": null,
            "width": null
          }
        },
        "7df6768bf9c34e57b2331c9d495ae150": {
          "model_module": "@jupyter-widgets/base",
          "model_name": "LayoutModel",
          "model_module_version": "1.2.0",
          "state": {
            "_model_module": "@jupyter-widgets/base",
            "_model_module_version": "1.2.0",
            "_model_name": "LayoutModel",
            "_view_count": null,
            "_view_module": "@jupyter-widgets/base",
            "_view_module_version": "1.2.0",
            "_view_name": "LayoutView",
            "align_content": null,
            "align_items": null,
            "align_self": null,
            "border": null,
            "bottom": null,
            "display": null,
            "flex": null,
            "flex_flow": null,
            "grid_area": null,
            "grid_auto_columns": null,
            "grid_auto_flow": null,
            "grid_auto_rows": null,
            "grid_column": null,
            "grid_gap": null,
            "grid_row": null,
            "grid_template_areas": null,
            "grid_template_columns": null,
            "grid_template_rows": null,
            "height": null,
            "justify_content": null,
            "justify_items": null,
            "left": null,
            "margin": null,
            "max_height": null,
            "max_width": null,
            "min_height": null,
            "min_width": null,
            "object_fit": null,
            "object_position": null,
            "order": null,
            "overflow": null,
            "overflow_x": null,
            "overflow_y": null,
            "padding": null,
            "right": null,
            "top": null,
            "visibility": null,
            "width": null
          }
        },
        "5ca6f87f01fb40adb837ab52ae6a5677": {
          "model_module": "@jupyter-widgets/controls",
          "model_name": "DescriptionStyleModel",
          "model_module_version": "1.5.0",
          "state": {
            "_model_module": "@jupyter-widgets/controls",
            "_model_module_version": "1.5.0",
            "_model_name": "DescriptionStyleModel",
            "_view_count": null,
            "_view_module": "@jupyter-widgets/base",
            "_view_module_version": "1.2.0",
            "_view_name": "StyleView",
            "description_width": ""
          }
        },
        "133e5268601643e09656fc8e278d8eaf": {
          "model_module": "@jupyter-widgets/base",
          "model_name": "LayoutModel",
          "model_module_version": "1.2.0",
          "state": {
            "_model_module": "@jupyter-widgets/base",
            "_model_module_version": "1.2.0",
            "_model_name": "LayoutModel",
            "_view_count": null,
            "_view_module": "@jupyter-widgets/base",
            "_view_module_version": "1.2.0",
            "_view_name": "LayoutView",
            "align_content": null,
            "align_items": null,
            "align_self": null,
            "border": null,
            "bottom": null,
            "display": null,
            "flex": null,
            "flex_flow": null,
            "grid_area": null,
            "grid_auto_columns": null,
            "grid_auto_flow": null,
            "grid_auto_rows": null,
            "grid_column": null,
            "grid_gap": null,
            "grid_row": null,
            "grid_template_areas": null,
            "grid_template_columns": null,
            "grid_template_rows": null,
            "height": null,
            "justify_content": null,
            "justify_items": null,
            "left": null,
            "margin": null,
            "max_height": null,
            "max_width": null,
            "min_height": null,
            "min_width": null,
            "object_fit": null,
            "object_position": null,
            "order": null,
            "overflow": null,
            "overflow_x": null,
            "overflow_y": null,
            "padding": null,
            "right": null,
            "top": null,
            "visibility": null,
            "width": null
          }
        },
        "91245637040642d399a00b1c7cfab7d1": {
          "model_module": "@jupyter-widgets/controls",
          "model_name": "ProgressStyleModel",
          "model_module_version": "1.5.0",
          "state": {
            "_model_module": "@jupyter-widgets/controls",
            "_model_module_version": "1.5.0",
            "_model_name": "ProgressStyleModel",
            "_view_count": null,
            "_view_module": "@jupyter-widgets/base",
            "_view_module_version": "1.2.0",
            "_view_name": "StyleView",
            "bar_color": null,
            "description_width": ""
          }
        },
        "d3c5b6045d6644e78aef5ba0b3d32cc2": {
          "model_module": "@jupyter-widgets/base",
          "model_name": "LayoutModel",
          "model_module_version": "1.2.0",
          "state": {
            "_model_module": "@jupyter-widgets/base",
            "_model_module_version": "1.2.0",
            "_model_name": "LayoutModel",
            "_view_count": null,
            "_view_module": "@jupyter-widgets/base",
            "_view_module_version": "1.2.0",
            "_view_name": "LayoutView",
            "align_content": null,
            "align_items": null,
            "align_self": null,
            "border": null,
            "bottom": null,
            "display": null,
            "flex": null,
            "flex_flow": null,
            "grid_area": null,
            "grid_auto_columns": null,
            "grid_auto_flow": null,
            "grid_auto_rows": null,
            "grid_column": null,
            "grid_gap": null,
            "grid_row": null,
            "grid_template_areas": null,
            "grid_template_columns": null,
            "grid_template_rows": null,
            "height": null,
            "justify_content": null,
            "justify_items": null,
            "left": null,
            "margin": null,
            "max_height": null,
            "max_width": null,
            "min_height": null,
            "min_width": null,
            "object_fit": null,
            "object_position": null,
            "order": null,
            "overflow": null,
            "overflow_x": null,
            "overflow_y": null,
            "padding": null,
            "right": null,
            "top": null,
            "visibility": null,
            "width": null
          }
        },
        "682fe25bf34241829ff7bca52a886843": {
          "model_module": "@jupyter-widgets/controls",
          "model_name": "DescriptionStyleModel",
          "model_module_version": "1.5.0",
          "state": {
            "_model_module": "@jupyter-widgets/controls",
            "_model_module_version": "1.5.0",
            "_model_name": "DescriptionStyleModel",
            "_view_count": null,
            "_view_module": "@jupyter-widgets/base",
            "_view_module_version": "1.2.0",
            "_view_name": "StyleView",
            "description_width": ""
          }
        }
      }
    }
  },
  "nbformat": 4,
  "nbformat_minor": 0
}
