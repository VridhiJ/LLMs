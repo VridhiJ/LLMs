{
 "cells": [
  {
   "cell_type": "markdown",
   "metadata": {},
   "source": [
    "<h1 align=\"center\" style=\"color:green;font-size: 3em;\">\n",
    "Implementing Fine-tuning Techniques</h1>"
   ]
  },
  {
   "cell_type": "markdown",
   "metadata": {},
   "source": [
    "Implementing various fine-tuning methods as described in different papers, specifically LoRA and IA3.\n",
    "\n",
    "Pt2:\n",
    "\n",
    "In this notebook, we will:\n",
    "- Inject LoRA Adapters into our model\n",
    "- Finetune our LoRA Adapters"
   ]
  },
  {
   "cell_type": "markdown",
   "metadata": {},
   "source": [
    "### Install dependencies"
   ]
  },
  {
   "cell_type": "code",
   "execution_count": 1,
   "metadata": {},
   "outputs": [
    {
     "name": "stdout",
     "output_type": "stream",
     "text": [
      "Note: you may need to restart the kernel to use updated packages.\n"
     ]
    }
   ],
   "source": [
    "%pip install datasets -q"
   ]
  },
  {
   "cell_type": "markdown",
   "metadata": {},
   "source": [
    "### Import Libraries"
   ]
  },
  {
   "cell_type": "code",
   "execution_count": 1,
   "metadata": {},
   "outputs": [
    {
     "name": "stdout",
     "output_type": "stream",
     "text": [
      "2.6.0+cu124\n"
     ]
    }
   ],
   "source": [
    "# importing required libraries\n",
    "import torch\n",
    "import torch.nn as nn\n",
    "import collections\n",
    "import random\n",
    "import numpy as np\n",
    "import math\n",
    "import matplotlib.pyplot as plt\n",
    "import warnings\n",
    "\n",
    "from torch.optim import AdamW\n",
    "from typing import List\n",
    "from torch.nn import functional as F\n",
    "from tqdm import tqdm\n",
    "from datasets import load_dataset, Dataset\n",
    "from transformers import (\n",
    "    AutoModelForCausalLM,\n",
    "    AutoTokenizer,\n",
    "    Trainer,\n",
    "    DataCollatorForLanguageModeling,\n",
    "    TrainingArguments,\n",
    ")\n",
    "from transformers import AutoModelForSequenceClassification, AutoTokenizer, AutoModelForSeq2SeqLM, AutoModelForCausalLM, T5Tokenizer, T5ForSequenceClassification\n",
    "from torch.utils.data import DataLoader\n",
    "\n",
    "warnings.simplefilter(\"ignore\")\n",
    "print(torch.__version__)"
   ]
  },
  {
   "cell_type": "code",
   "execution_count": 2,
   "metadata": {},
   "outputs": [
    {
     "data": {
      "text/plain": [
       "'cuda'"
      ]
     },
     "execution_count": 2,
     "metadata": {},
     "output_type": "execute_result"
    }
   ],
   "source": [
    "device = \"cuda\" if torch.cuda.is_available() else \"cpu\"\n",
    "device"
   ]
  },
  {
   "cell_type": "markdown",
   "metadata": {},
   "source": [
    "### LoRA Adapters\n",
    "\n",
    "In this section, we will implement LoRA (Low-Rank Adaptation) and inject it into our causal model. Specifically, we will inject LoRA into the **key, query, and value** matrices of each transformer block.\n",
    "\n",
    "Recall from the LoRA paper that LoRA enhances model training efficiency by reducing the need to retrain all pretrained weights. Instead, it introduces two smaller matrices, A and B, which capture the necessary adaptations for the new task. This significantly reduces computational overhead while maintaining high performance.\n",
    "\n",
    "For more information, read the [paper](https://arxiv.org/pdf/2106.09685).\n",
    "\n",
    "By using LoRA in our causal model, we aim to achieve efficient fine-tuning with minimal computational cost, focusing on the key, query, and value matrices within each transformer block."
   ]
  },
  {
   "cell_type": "markdown",
   "metadata": {},
   "source": [
    "### LoRA class\n",
    "\n",
    "First, let's implement the LoRA class based on how it is defined in the paper."
   ]
  },
  {
   "cell_type": "code",
   "execution_count": null,
   "metadata": {},
   "outputs": [],
   "source": [
    "class LoRALayer():\n",
    "    def __init__(\n",
    "        self,\n",
    "        r: int,\n",
    "        lora_alpha: int,\n",
    "        lora_dropout: float,\n",
    "    ):\n",
    "        self.r = r\n",
    "        self.lora_alpha = lora_alpha\n",
    "        # Optional dropout\n",
    "        if lora_dropout > 0.:\n",
    "            self.lora_dropout = nn.Dropout(p=lora_dropout)\n",
    "        else:\n",
    "            self.lora_dropout = lambda x: x\n",
    "\n",
    "class LoRAAdapter(nn.Module, LoRALayer):\n",
    "    def __init__(\n",
    "        self,\n",
    "        existing_layer: nn.Module,\n",
    "        in_features,\n",
    "        out_features,\n",
    "        r: int = 0,\n",
    "        lora_alpha: int = 1,\n",
    "        lora_dropout: float = 0.,\n",
    "        **kwargs\n",
    "    ):\n",
    "        nn.Module.__init__(self)\n",
    "        LoRALayer.__init__(self, r=r, lora_alpha=lora_alpha, lora_dropout=lora_dropout)\n",
    "        self.existing_layer = existing_layer\n",
    "\n",
    "\n",
    "        self.r = r # Rank of LoRA Adapter\n",
    "        if r > 0:\n",
    "            self.lora_A = nn.Parameter(torch.randn(r, in_features))\n",
    "            self.lora_B = nn.Parameter(torch.zeros(out_features, r))\n",
    "            self.scaling = self.lora_alpha / self.r\n",
    "\n",
    "        self.reset_parameters()\n",
    "\n",
    "    ## Resets the two matrices (A and B) based on how the paper does it\n",
    "    def reset_parameters(self):\n",
    "        if self.r > 0:\n",
    "            nn.init.normal_(self.lora_A, mean=0.0, std=1.0)\n",
    "            nn.init.zeros_(self.lora_B)\n",
    "\n",
    "\n",
    "    def train(self, mode: bool = True):\n",
    "        self.existing_layer.train(mode)\n",
    "\n",
    "\n",
    "    def forward(self, x: torch.Tensor):\n",
    "      if self.r > 0:\n",
    "        # change x shape for matrice multiplication\n",
    "        batch_size, seq_len, in_features = x.shape\n",
    "        x = x.view(-1, in_features)  # Shape: (batch_size * seq_len, in_features)\n",
    "\n",
    "        # Ensure dtype consistency\n",
    "        x = x.to(torch.bfloat16)\n",
    "\n",
    "        # LoRA output: B(A(x)) * scaling\n",
    "        lora_out = torch.matmul(self.lora_A, x.T)  # Shape: (r, batch_size * seq_len)\n",
    "        lora_out = torch.matmul(self.lora_B, lora_out)  # Shape: (out_features, batch_size * seq_len)\n",
    "        lora_out = lora_out.T * self.scaling  # Shape: (batch_size * seq_len, out_features)\n",
    "\n",
    "        # dropout\n",
    "        lora_out = self.lora_dropout(lora_out)\n",
    "\n",
    "        # Add lora_out to the existing layer's output\n",
    "        return self.existing_layer(x) + lora_out\n",
    "      else:\n",
    "        # If r is zero, return the existing layer's output\n",
    "        return self.existing_layer(x)"
   ]
  },
  {
   "cell_type": "code",
   "execution_count": null,
   "metadata": {},
   "outputs": [],
   "source": []
  }
 ],
 "metadata": {
  "kernelspec": {
   "display_name": "Python 3 (ipykernel)",
   "language": "python",
   "name": "python3"
  },
  "language_info": {
   "codemirror_mode": {
    "name": "ipython",
    "version": 3
   },
   "file_extension": ".py",
   "mimetype": "text/x-python",
   "name": "python",
   "nbconvert_exporter": "python",
   "pygments_lexer": "ipython3",
   "version": "3.12.9"
  }
 },
 "nbformat": 4,
 "nbformat_minor": 2
}
